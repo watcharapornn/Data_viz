{
  "nbformat": 4,
  "nbformat_minor": 0,
  "metadata": {
    "colab": {
      "name": "ยินดีต้อนรับสู่ Colaboratory",
      "provenance": [],
      "collapsed_sections": [],
      "include_colab_link": true
    },
    "kernelspec": {
      "display_name": "Python 3",
      "name": "python3"
    }
  },
  "cells": [
    {
      "cell_type": "markdown",
      "metadata": {
        "id": "view-in-github",
        "colab_type": "text"
      },
      "source": [
        "<a href=\"https://colab.research.google.com/github/watcharapornn/data_viz/blob/main/Python101.ipynb\" target=\"_parent\"><img src=\"https://colab.research.google.com/assets/colab-badge.svg\" alt=\"Open In Colab\"/></a>"
      ]
    },
    {
      "cell_type": "markdown",
      "metadata": {
        "id": "a1o3LOfuQDAS"
      },
      "source": [
        ""
      ]
    },
    {
      "cell_type": "code",
      "metadata": {
        "id": "YcJ4ZmjkQCkv",
        "colab": {
          "base_uri": "https://localhost:8080/"
        },
        "outputId": "e60862fc-5e25-4514-8b7f-ce1f118254a4"
      },
      "source": [
        "3.14159265359"
      ],
      "execution_count": null,
      "outputs": [
        {
          "output_type": "execute_result",
          "data": {
            "text/plain": [
              "3.14159265359"
            ]
          },
          "metadata": {
            "tags": []
          },
          "execution_count": 1
        }
      ]
    },
    {
      "cell_type": "markdown",
      "metadata": {
        "id": "_gBFSPwtiyFK"
      },
      "source": [
        "หลักการตั้งชื่อตัวแปรเบื้องต้น\r\n",
        "1.   ตั้งให้สื่อ\r\n",
        "2.   ภาษาอังกฤษ\r\n",
        "3.   ใช้ตัวเลขได้แต่ห้ามขึ้นต้นด้วยตัวเลข\r\n",
        "4.   ห้ามเว้นวรรค\r\n"
      ]
    },
    {
      "cell_type": "code",
      "metadata": {
        "colab": {
          "base_uri": "https://localhost:8080/"
        },
        "id": "hzNkSC7Fibad",
        "outputId": "e8b9d08b-6f00-4888-fbda-d33b5c4f8b33"
      },
      "source": [
        "pi = 3.14159265359\r\n",
        "pi "
      ],
      "execution_count": null,
      "outputs": [
        {
          "output_type": "execute_result",
          "data": {
            "text/plain": [
              "3.14159265359"
            ]
          },
          "metadata": {
            "tags": []
          },
          "execution_count": 8
        }
      ]
    },
    {
      "cell_type": "markdown",
      "metadata": {
        "id": "qmRiZWofkI0K"
      },
      "source": [
        "## int : จำนวนเต็ม"
      ]
    },
    {
      "cell_type": "code",
      "metadata": {
        "colab": {
          "base_uri": "https://localhost:8080/"
        },
        "id": "ADiyniAlibVv",
        "outputId": "37e72050-65d9-4e0d-dc60-a1ee458b74d4"
      },
      "source": [
        "a = 10\r\n",
        "print(a)"
      ],
      "execution_count": null,
      "outputs": [
        {
          "output_type": "stream",
          "text": [
            "10\n"
          ],
          "name": "stdout"
        }
      ]
    },
    {
      "cell_type": "markdown",
      "metadata": {
        "id": "jI4pSuUrkO9X"
      },
      "source": [
        "## float : ทศนิยม"
      ]
    },
    {
      "cell_type": "code",
      "metadata": {
        "colab": {
          "base_uri": "https://localhost:8080/"
        },
        "id": "Awc98R2XibR3",
        "outputId": "aecc3bcd-9b50-4819-9edc-69ba35ca6e2b"
      },
      "source": [
        "b = 10.\r\n",
        "print(b)"
      ],
      "execution_count": null,
      "outputs": [
        {
          "output_type": "stream",
          "text": [
            "10.0\n"
          ],
          "name": "stdout"
        }
      ]
    },
    {
      "cell_type": "markdown",
      "metadata": {
        "id": "JKQXolXcQEus"
      },
      "source": [
        "##char : ข้อความหรือตัวอักษร"
      ]
    },
    {
      "cell_type": "markdown",
      "metadata": {
        "id": "ht1JjMCoQUje"
      },
      "source": [
        "-> # hashtag, sharp ใชสำหรับคอมเม้น"
      ]
    },
    {
      "cell_type": "code",
      "metadata": {
        "id": "MnwZyPw7QCdt",
        "colab": {
          "base_uri": "https://localhost:8080/",
          "height": 34
        },
        "outputId": "8bb9f6b8-7316-484f-8042-f2f60e662bd4"
      },
      "source": [
        "c = 'วัชราภรณ์' # เราจะบอกว่าตัวแปรนี่เป็นตัวอักษรหรือข้อความโดยการใช้ single quote ' หรือ double quote \" ล้อมรอบ\r\n",
        "c"
      ],
      "execution_count": null,
      "outputs": [
        {
          "output_type": "execute_result",
          "data": {
            "application/vnd.google.colaboratory.intrinsic+json": {
              "type": "string"
            },
            "text/plain": [
              "'วัชราภรณ์'"
            ]
          },
          "metadata": {
            "tags": []
          },
          "execution_count": 11
        }
      ]
    },
    {
      "cell_type": "markdown",
      "metadata": {
        "id": "TfFYcseXRQeO"
      },
      "source": [
        "## การเปลี่ยน char เป็น int"
      ]
    },
    {
      "cell_type": "code",
      "metadata": {
        "id": "_POCnxZlSDv0",
        "colab": {
          "base_uri": "https://localhost:8080/"
        },
        "outputId": "63a70ce5-5cc9-4b81-ce15-46e2810f22a3"
      },
      "source": [
        "d = '10'\r\n",
        "print(d)"
      ],
      "execution_count": null,
      "outputs": [
        {
          "output_type": "stream",
          "text": [
            "10\n"
          ],
          "name": "stdout"
        }
      ]
    },
    {
      "cell_type": "code",
      "metadata": {
        "colab": {
          "base_uri": "https://localhost:8080/",
          "height": 167
        },
        "id": "hHD2W7y-kuKM",
        "outputId": "3aba44b7-61b9-478e-b5e7-c1aa01c89106"
      },
      "source": [
        "d+1"
      ],
      "execution_count": null,
      "outputs": [
        {
          "output_type": "error",
          "ename": "TypeError",
          "evalue": "ignored",
          "traceback": [
            "\u001b[0;31m---------------------------------------------------------------------------\u001b[0m",
            "\u001b[0;31mTypeError\u001b[0m                                 Traceback (most recent call last)",
            "\u001b[0;32m<ipython-input-13-1e06e37b4525>\u001b[0m in \u001b[0;36m<module>\u001b[0;34m()\u001b[0m\n\u001b[0;32m----> 1\u001b[0;31m \u001b[0md\u001b[0m\u001b[0;34m+\u001b[0m\u001b[0;36m1\u001b[0m\u001b[0;34m\u001b[0m\u001b[0;34m\u001b[0m\u001b[0m\n\u001b[0m",
            "\u001b[0;31mTypeError\u001b[0m: must be str, not int"
          ]
        }
      ]
    },
    {
      "cell_type": "markdown",
      "metadata": {
        "id": "gFSXHPYRkzve"
      },
      "source": [
        "### variable casting (การเปลี่ยนชนิดของข้อมูล)"
      ]
    },
    {
      "cell_type": "code",
      "metadata": {
        "colab": {
          "base_uri": "https://localhost:8080/"
        },
        "id": "a2YW2tDYkwdN",
        "outputId": "ea2745f6-e938-461f-c5c7-11d743671be0"
      },
      "source": [
        "int(d) + 1"
      ],
      "execution_count": null,
      "outputs": [
        {
          "output_type": "execute_result",
          "data": {
            "text/plain": [
              "11"
            ]
          },
          "metadata": {
            "tags": []
          },
          "execution_count": 14
        }
      ]
    },
    {
      "cell_type": "code",
      "metadata": {
        "colab": {
          "base_uri": "https://localhost:8080/"
        },
        "id": "ClT9yiKUk35z",
        "outputId": "d397d727-dae9-4b13-825a-0feebf8ce944"
      },
      "source": [
        "print(a)\r\n",
        "print(float(a))\r\n",
        "print(str(a))"
      ],
      "execution_count": null,
      "outputs": [
        {
          "output_type": "stream",
          "text": [
            "10\n",
            "10.0\n",
            "10\n"
          ],
          "name": "stdout"
        }
      ]
    },
    {
      "cell_type": "markdown",
      "metadata": {
        "id": "_RWwSbwuR2G0"
      },
      "source": [
        "## Operation (Operators+,-,*,/,%)"
      ]
    },
    {
      "cell_type": "code",
      "metadata": {
        "colab": {
          "base_uri": "https://localhost:8080/"
        },
        "id": "0ZloCHOWk_dJ",
        "outputId": "49bda130-6471-4bd9-e8bb-5b1c82970318"
      },
      "source": [
        "a+b"
      ],
      "execution_count": null,
      "outputs": [
        {
          "output_type": "execute_result",
          "data": {
            "text/plain": [
              "20.0"
            ]
          },
          "metadata": {
            "tags": []
          },
          "execution_count": 16
        }
      ]
    },
    {
      "cell_type": "code",
      "metadata": {
        "colab": {
          "base_uri": "https://localhost:8080/"
        },
        "id": "-fXkwCFBk_Rw",
        "outputId": "b96d220c-1cd3-4e2e-d408-df41277c69e0"
      },
      "source": [
        "ab = a+b\r\n",
        "print(ab)"
      ],
      "execution_count": null,
      "outputs": [
        {
          "output_type": "stream",
          "text": [
            "20.0\n"
          ],
          "name": "stdout"
        }
      ]
    },
    {
      "cell_type": "markdown",
      "metadata": {
        "id": "9RIK5OLBlPbR"
      },
      "source": [
        "### % เครื่องหมาย modulo"
      ]
    },
    {
      "cell_type": "code",
      "metadata": {
        "colab": {
          "base_uri": "https://localhost:8080/"
        },
        "id": "tksVluwMlPDG",
        "outputId": "b5ec8e77-7305-4d45-9345-9e1477b7a890"
      },
      "source": [
        "5%3"
      ],
      "execution_count": null,
      "outputs": [
        {
          "output_type": "execute_result",
          "data": {
            "text/plain": [
              "2"
            ]
          },
          "metadata": {
            "tags": []
          },
          "execution_count": 18
        }
      ]
    },
    {
      "cell_type": "code",
      "metadata": {
        "colab": {
          "base_uri": "https://localhost:8080/"
        },
        "id": "lYyP9mYuk_M8",
        "outputId": "3f53100e-38ea-4c41-b2de-ca9cfeaf07ea"
      },
      "source": [
        "7%2"
      ],
      "execution_count": null,
      "outputs": [
        {
          "output_type": "execute_result",
          "data": {
            "text/plain": [
              "1"
            ]
          },
          "metadata": {
            "tags": []
          },
          "execution_count": 19
        }
      ]
    },
    {
      "cell_type": "markdown",
      "metadata": {
        "id": "bEWLDcd4lW9w"
      },
      "source": [
        "## คำสั่ง print แบบพิเศษ (การ fomat strint)"
      ]
    },
    {
      "cell_type": "code",
      "metadata": {
        "colab": {
          "base_uri": "https://localhost:8080/"
        },
        "id": "cO9RxZN9lWhl",
        "outputId": "5844a2bf-3408-4680-d150-207009fabdee"
      },
      "source": [
        "print('ตัวแปร') #สิ่งที่อยู่ข้างในวงเล็บคือ ตัวแปร และ string"
      ],
      "execution_count": null,
      "outputs": [
        {
          "output_type": "stream",
          "text": [
            "ตัวแปร\n"
          ],
          "name": "stdout"
        }
      ]
    },
    {
      "cell_type": "code",
      "metadata": {
        "colab": {
          "base_uri": "https://localhost:8080/"
        },
        "id": "bvn8W7S-npik",
        "outputId": "974508bf-293a-449c-8b96-3daa6bec1183"
      },
      "source": [
        "print(f'% คือการหารเอาเศษ เช่น 7%3 ={7%3}') # เพิ่ม f หน้า 'string' และใช้ {} เพื่อใส่ code"
      ],
      "execution_count": null,
      "outputs": [
        {
          "output_type": "stream",
          "text": [
            "% คือการหารเอาเศษ เช่น 7%3 =1\n"
          ],
          "name": "stdout"
        }
      ]
    },
    {
      "cell_type": "code",
      "metadata": {
        "colab": {
          "base_uri": "https://localhost:8080/"
        },
        "id": "NxmIONsFnpfU",
        "outputId": "3f57c8ce-65f3-4c32-8a80-28b97402eb46"
      },
      "source": [
        "print(f'% คือการหารเอาเศษ เช่น 7%3 ={7%3} \\\\\r\n",
        "          แต่ \\n/ คือการหารปกติ เช่น 7/3 = {7/3} \\\\\r\n",
        "          และ \\n // คือการหารเอาส่วน เช่น 7//3 = {7//3} \\\\\r\n",
        "          หรือ\\nใช้ int เพื่อหารเอาส่วน เช่น int(7/3) = {int(7/3)}') # \\n คือการขึ้นบรรทัดใหม่"
      ],
      "execution_count": null,
      "outputs": [
        {
          "output_type": "stream",
          "text": [
            "% คือการหารเอาเศษ เช่น 7%3 =1 \\          แต่ \n",
            "/ คือการหารปกติ เช่น 7/3 = 2.3333333333333335 \\          และ \n",
            " // คือการหารเอาส่วน เช่น 7//3 = 2 \\          หรือ\n",
            "ใช้ int เพื่อหารเอาส่วน เช่น int(7/3) = 2\n"
          ],
          "name": "stdout"
        }
      ]
    },
    {
      "cell_type": "markdown",
      "metadata": {
        "id": "IM_bOloYnwD1"
      },
      "source": [
        "## DATA STRUCTURE (โครงสร้างข้อมูล)\r\n"
      ]
    },
    {
      "cell_type": "markdown",
      "metadata": {
        "id": "EzMXbFWeoR7f"
      },
      "source": [
        "### List คือ การเอาตัวแปรหลายๆตัวมาเรียงกัน : เป็นได้ทั้งตัวเลขและอักขระ\r\n",
        "### list สามารถสร้างได้ 2 แบบ ดังนี้"
      ]
    },
    {
      "cell_type": "markdown",
      "metadata": {
        "id": "G1zKtRFSoS55"
      },
      "source": [
        "### แบบที่1 > square brackets"
      ]
    },
    {
      "cell_type": "code",
      "metadata": {
        "id": "uL5waCIZjIDk",
        "colab": {
          "base_uri": "https://localhost:8080/"
        },
        "outputId": "d061d4e7-2413-45b5-f518-2fdbd5f47e28"
      },
      "source": [
        "list_a =[]\r\n",
        "print(list_a)"
      ],
      "execution_count": null,
      "outputs": [
        {
          "output_type": "stream",
          "text": [
            "[]\n"
          ],
          "name": "stdout"
        }
      ]
    },
    {
      "cell_type": "code",
      "metadata": {
        "id": "R75ZfSf1QCW7",
        "colab": {
          "base_uri": "https://localhost:8080/"
        },
        "outputId": "8e7ea72b-778f-4bae-96f8-d6443cf7e103"
      },
      "source": [
        "list_b=[1,5,'v']\r\n",
        "print(list_b)"
      ],
      "execution_count": null,
      "outputs": [
        {
          "output_type": "stream",
          "text": [
            "[1, 5, 'v']\n"
          ],
          "name": "stdout"
        }
      ]
    },
    {
      "cell_type": "markdown",
      "metadata": {
        "id": "_suiv50ZohBZ"
      },
      "source": [
        "### ลำดับที่อยู่ใน list มีความสำคัญ (ลำดับในlist เริ่มจาก 0,1,2,3,....)"
      ]
    },
    {
      "cell_type": "code",
      "metadata": {
        "colab": {
          "base_uri": "https://localhost:8080/"
        },
        "id": "vaN-5Gg3oh94",
        "outputId": "7fddb1e2-1831-4dc3-996d-3da425d77c0b"
      },
      "source": [
        "list_b[1]"
      ],
      "execution_count": null,
      "outputs": [
        {
          "output_type": "execute_result",
          "data": {
            "text/plain": [
              "5"
            ]
          },
          "metadata": {
            "tags": []
          },
          "execution_count": 25
        }
      ]
    },
    {
      "cell_type": "markdown",
      "metadata": {
        "id": "mLaLO0rHolpf"
      },
      "source": [
        "### แบบที่2"
      ]
    },
    {
      "cell_type": "code",
      "metadata": {
        "colab": {
          "base_uri": "https://localhost:8080/"
        },
        "id": "HIJJOC6ioq-y",
        "outputId": "6bcf7eb8-7b91-43ff-cdf2-a5007859bd3b"
      },
      "source": [
        "list_c = list()\r\n",
        "print(list_c)"
      ],
      "execution_count": null,
      "outputs": [
        {
          "output_type": "stream",
          "text": [
            "[]\n"
          ],
          "name": "stdout"
        }
      ]
    },
    {
      "cell_type": "markdown",
      "metadata": {
        "id": "Lhw3RypDo4D1"
      },
      "source": [
        "append() เพิ่มสมาชิกใน list"
      ]
    },
    {
      "cell_type": "code",
      "metadata": {
        "colab": {
          "base_uri": "https://localhost:8080/"
        },
        "id": "7zN9-zPMornk",
        "outputId": "92fb4338-d239-4773-8e23-232bbc7ac130"
      },
      "source": [
        "list_b.append('u')\r\n",
        "print(list_b)"
      ],
      "execution_count": null,
      "outputs": [
        {
          "output_type": "stream",
          "text": [
            "[1, 5, 'v', 'u']\n"
          ],
          "name": "stdout"
        }
      ]
    },
    {
      "cell_type": "code",
      "metadata": {
        "colab": {
          "base_uri": "https://localhost:8080/",
          "height": 34
        },
        "id": "9oEYnR5torck",
        "outputId": "64d95ddd-ed9e-4dfc-b576-3f2c6ed33261"
      },
      "source": [
        "list_b.pop() # ดึงสมาชิกสุดท้ายออกจาก list"
      ],
      "execution_count": null,
      "outputs": [
        {
          "output_type": "execute_result",
          "data": {
            "application/vnd.google.colaboratory.intrinsic+json": {
              "type": "string"
            },
            "text/plain": [
              "'v'"
            ]
          },
          "metadata": {
            "tags": []
          },
          "execution_count": 29
        }
      ]
    },
    {
      "cell_type": "code",
      "metadata": {
        "colab": {
          "base_uri": "https://localhost:8080/"
        },
        "id": "OV2MehPmo-3j",
        "outputId": "cdcb9a2f-ab0d-43c5-c36e-1f1233b19c46"
      },
      "source": [
        "list_b"
      ],
      "execution_count": null,
      "outputs": [
        {
          "output_type": "execute_result",
          "data": {
            "text/plain": [
              "[1, 5]"
            ]
          },
          "metadata": {
            "tags": []
          },
          "execution_count": 30
        }
      ]
    },
    {
      "cell_type": "code",
      "metadata": {
        "colab": {
          "base_uri": "https://localhost:8080/"
        },
        "id": "5SihBJhvo-vK",
        "outputId": "c27240aa-7868-45b0-f85d-3d6c5d167321"
      },
      "source": [
        "list_b.append(list_a)\r\n",
        "print(list_b)"
      ],
      "execution_count": null,
      "outputs": [
        {
          "output_type": "stream",
          "text": [
            "[1, 5, []]\n"
          ],
          "name": "stdout"
        }
      ]
    },
    {
      "cell_type": "markdown",
      "metadata": {
        "id": "s2nwY4QzpIBo"
      },
      "source": [
        "## String > list of characters"
      ]
    },
    {
      "cell_type": "code",
      "metadata": {
        "colab": {
          "base_uri": "https://localhost:8080/"
        },
        "id": "_JRzddygpLdS",
        "outputId": "7e988345-1016-4e16-9cee-c3bd49788ffa"
      },
      "source": [
        "len(list_b) # len คือคำสั่งตรวจสอบความยาวของ list (จำนวนสมาชิก)"
      ],
      "execution_count": null,
      "outputs": [
        {
          "output_type": "execute_result",
          "data": {
            "text/plain": [
              "3"
            ]
          },
          "metadata": {
            "tags": []
          },
          "execution_count": 32
        }
      ]
    },
    {
      "cell_type": "code",
      "metadata": {
        "id": "UJy1axJdewzu",
        "colab": {
          "base_uri": "https://localhost:8080/",
          "height": 34
        },
        "outputId": "ac190656-afe7-40f4-d9c6-19ae109678f6"
      },
      "source": [
        "t='python is easy' \r\n",
        "t"
      ],
      "execution_count": null,
      "outputs": [
        {
          "output_type": "execute_result",
          "data": {
            "application/vnd.google.colaboratory.intrinsic+json": {
              "type": "string"
            },
            "text/plain": [
              "'python is easy'"
            ]
          },
          "metadata": {
            "tags": []
          },
          "execution_count": 5
        }
      ]
    },
    {
      "cell_type": "markdown",
      "metadata": {
        "id": "3pmG6NkGeAYv"
      },
      "source": [
        "### access a member of a list (list&string)\r\n",
        "###โดยเริ่มนับจะเริ่มนับจาก0\r\n",
        "### 0 คือมาชิกตัวแรก, -1 คือสมาชิกตัวสุดท้าย"
      ]
    },
    {
      "cell_type": "code",
      "metadata": {
        "id": "h7HRJMl2QCTu",
        "colab": {
          "base_uri": "https://localhost:8080/",
          "height": 34
        },
        "outputId": "43169ea0-beb6-4dec-e03d-0b86439e23fb"
      },
      "source": [
        "t[1]"
      ],
      "execution_count": null,
      "outputs": [
        {
          "output_type": "execute_result",
          "data": {
            "application/vnd.google.colaboratory.intrinsic+json": {
              "type": "string"
            },
            "text/plain": [
              "'y'"
            ]
          },
          "metadata": {
            "tags": []
          },
          "execution_count": 6
        }
      ]
    },
    {
      "cell_type": "code",
      "metadata": {
        "id": "o7_sWHSOQCQf",
        "colab": {
          "base_uri": "https://localhost:8080/",
          "height": 34
        },
        "outputId": "a8e0f1f3-761c-4cc2-da37-7269610c0656"
      },
      "source": [
        "t[-1]"
      ],
      "execution_count": null,
      "outputs": [
        {
          "output_type": "execute_result",
          "data": {
            "application/vnd.google.colaboratory.intrinsic+json": {
              "type": "string"
            },
            "text/plain": [
              "'y'"
            ]
          },
          "metadata": {
            "tags": []
          },
          "execution_count": 7
        }
      ]
    },
    {
      "cell_type": "code",
      "metadata": {
        "id": "sbySBLw1QCNF",
        "colab": {
          "base_uri": "https://localhost:8080/",
          "height": 34
        },
        "outputId": "4162d852-f3d2-480c-9770-6545bb161ab6"
      },
      "source": [
        "t[-3]"
      ],
      "execution_count": null,
      "outputs": [
        {
          "output_type": "execute_result",
          "data": {
            "application/vnd.google.colaboratory.intrinsic+json": {
              "type": "string"
            },
            "text/plain": [
              "'a'"
            ]
          },
          "metadata": {
            "tags": []
          },
          "execution_count": 8
        }
      ]
    },
    {
      "cell_type": "code",
      "metadata": {
        "id": "MIM1rt1hfIkP",
        "colab": {
          "base_uri": "https://localhost:8080/",
          "height": 34
        },
        "outputId": "0234dc74-c13c-4601-f2b6-f521c52b4698"
      },
      "source": [
        "t[-4]"
      ],
      "execution_count": null,
      "outputs": [
        {
          "output_type": "execute_result",
          "data": {
            "application/vnd.google.colaboratory.intrinsic+json": {
              "type": "string"
            },
            "text/plain": [
              "'e'"
            ]
          },
          "metadata": {
            "tags": []
          },
          "execution_count": 9
        }
      ]
    },
    {
      "cell_type": "code",
      "metadata": {
        "id": "hXjQXagqfMYQ"
      },
      "source": [
        ""
      ],
      "execution_count": null,
      "outputs": []
    },
    {
      "cell_type": "markdown",
      "metadata": {
        "id": "iN0Cqp_GfS6E"
      },
      "source": [
        "###ตัวที่อยู่ข้างใน [] เราเรียก index (ตัวชชี้)"
      ]
    },
    {
      "cell_type": "markdown",
      "metadata": {
        "id": "WcMMA77af3SX"
      },
      "source": [
        "### List slicing สามารถทำได้โดยใช้ colon :\r\n",
        "[a:b] -> [a.b)"
      ]
    },
    {
      "cell_type": "code",
      "metadata": {
        "id": "MbYB3HTifht-",
        "colab": {
          "base_uri": "https://localhost:8080/"
        },
        "outputId": "a318184d-cb0d-4779-f55a-39954fa964c6"
      },
      "source": [
        "print(t)\r\n",
        "print(t[7:9])"
      ],
      "execution_count": null,
      "outputs": [
        {
          "output_type": "stream",
          "text": [
            "python is easy\n",
            "is\n"
          ],
          "name": "stdout"
        }
      ]
    },
    {
      "cell_type": "markdown",
      "metadata": {
        "id": "HP54_TW6hMtA"
      },
      "source": [
        "ถ้าเว้นว่างหน้า : หมายความว่า เริ่มต้นตั้งแต่ตัวแรก\r\n",
        "\r\n",
        "ถ้าเว้นว่างหลัง : หมายความว่า ไปจนถึงตัวสุดท้าย"
      ]
    },
    {
      "cell_type": "code",
      "metadata": {
        "id": "eOUVGQN1heaz",
        "colab": {
          "base_uri": "https://localhost:8080/"
        },
        "outputId": "a85271ce-ffbe-478f-d53b-5622f5309631"
      },
      "source": [
        "print(t)\r\n",
        "print(t[:6])\r\n",
        "print(t[10:])\r\n",
        "print(t[-4:])\r\n",
        "print(t[:])"
      ],
      "execution_count": null,
      "outputs": [
        {
          "output_type": "stream",
          "text": [
            "python is easy\n",
            "python\n",
            "easy\n",
            "easy\n",
            "python is easy\n"
          ],
          "name": "stdout"
        }
      ]
    },
    {
      "cell_type": "markdown",
      "metadata": {
        "id": "70kAY4UqiQgt"
      },
      "source": [
        "#### เราสามารถเอา list มาต่อกันได้ด้วย +"
      ]
    },
    {
      "cell_type": "code",
      "metadata": {
        "id": "hXuTi9lfiXCh",
        "colab": {
          "base_uri": "https://localhost:8080/",
          "height": 34
        },
        "outputId": "64e78a4e-0abe-45dc-e925-c83e5769fe02"
      },
      "source": [
        "t + '??'"
      ],
      "execution_count": null,
      "outputs": [
        {
          "output_type": "execute_result",
          "data": {
            "application/vnd.google.colaboratory.intrinsic+json": {
              "type": "string"
            },
            "text/plain": [
              "'python is easy??'"
            ]
          },
          "metadata": {
            "tags": []
          },
          "execution_count": 13
        }
      ]
    },
    {
      "cell_type": "code",
      "metadata": {
        "id": "T9KCyLRFiuDQ"
      },
      "source": [
        "t + list_b ### ไม่สามารถเอา list มาต่อกับ String wfh"
      ],
      "execution_count": null,
      "outputs": []
    },
    {
      "cell_type": "code",
      "metadata": {
        "id": "3XINfy7Xie4H",
        "colab": {
          "base_uri": "https://localhost:8080/"
        },
        "outputId": "6a0c1a10-884e-4957-8ed9-963ed9da1349"
      },
      "source": [
        "list_b + list_a"
      ],
      "execution_count": null,
      "outputs": [
        {
          "output_type": "execute_result",
          "data": {
            "text/plain": [
              "[1, 5, 'v']"
            ]
          },
          "metadata": {
            "tags": []
          },
          "execution_count": 21
        }
      ]
    },
    {
      "cell_type": "markdown",
      "metadata": {
        "id": "fibW7CvqjfBj"
      },
      "source": [
        "###การแบ่ง string ตามสัญลักษณ์"
      ]
    },
    {
      "cell_type": "code",
      "metadata": {
        "id": "-noHc7cKied_"
      },
      "source": [
        ""
      ],
      "execution_count": null,
      "outputs": []
    },
    {
      "cell_type": "code",
      "metadata": {
        "id": "JR6-rfP7iebY"
      },
      "source": [
        ""
      ],
      "execution_count": null,
      "outputs": []
    },
    {
      "cell_type": "markdown",
      "metadata": {
        "id": "iHYz3S1qldWl"
      },
      "source": [
        "#HW\r\n",
        "\r\n",
        "### คำนวณเวลาเป็นวินาทีของเวลาต่อไปนี้โดยใช้คำสั่ง split ช่วย(print ออกมาให้สวยงาม)\r\n"
      ]
    },
    {
      "cell_type": "markdown",
      "metadata": {
        "id": "b7alvsiPlj_r"
      },
      "source": [
        "### 12:30:15 \r\n",
        "### 13:41:07 \r\n",
        "### 12:53:15 \r\n",
        "### 00:59:25 \r\n",
        "### 11:11:11 \r\n",
        "### 16:06:09"
      ]
    },
    {
      "cell_type": "code",
      "metadata": {
        "colab": {
          "base_uri": "https://localhost:8080/"
        },
        "id": "qRAeWL7Ylgv5",
        "outputId": "5fa3c689-f8e6-49d6-f9fd-25968ce27ab7"
      },
      "source": [
        "#1.12:30:15\r\n",
        "T1 = '12:30:15' \r\n",
        "list1 = T1.split(':') \r\n",
        "h1=list1[0]\r\n",
        "H1=int(h1)*3600\r\n",
        "m1=list1[1]\r\n",
        "M1=int(m1)*60\r\n",
        "s1=list1[2]\r\n",
        "S1=int(s1)\r\n",
        "print(f'12:30:15 สามารถคำนวณเวลาให้เป็นวินาทีได้เท่ากับ {H1+M1+S1} วินาที')"
      ],
      "execution_count": null,
      "outputs": [
        {
          "output_type": "stream",
          "text": [
            "12:30:15 สามารถคำนวณเวลาให้เป็นวินาทีได้เท่ากับ 45015 วินาที\n"
          ],
          "name": "stdout"
        }
      ]
    },
    {
      "cell_type": "code",
      "metadata": {
        "colab": {
          "base_uri": "https://localhost:8080/"
        },
        "id": "0svFdvgQlmcC",
        "outputId": "4c2513f5-c6ba-448d-ac89-92b30ad4ede1"
      },
      "source": [
        "#2.13:41:07\r\n",
        "T2 = '13:41:07' \r\n",
        "list2 = T2.split(':') \r\n",
        "h2=list2[0]\r\n",
        "H2=int(h2)*3600\r\n",
        "m2=list2[1]\r\n",
        "M2=int(m2)*60\r\n",
        "s2=list2[2]\r\n",
        "S2=int(s2)\r\n",
        "print(f'13:41:07 สามารถคำนวณเวลาให้เป็นวินาทีได้เท่ากับ {H2+M2+S2} วินาที')"
      ],
      "execution_count": null,
      "outputs": [
        {
          "output_type": "stream",
          "text": [
            "13:41:07 สามารถคำนวณเวลาให้เป็นวินาทีได้เท่ากับ 49267 วินาที\n"
          ],
          "name": "stdout"
        }
      ]
    },
    {
      "cell_type": "code",
      "metadata": {
        "colab": {
          "base_uri": "https://localhost:8080/"
        },
        "id": "UKYYwUgFllzy",
        "outputId": "061ece4b-787a-4b7f-a611-47ed31b11387"
      },
      "source": [
        "#3.12:53:15\r\n",
        "T3 = '12:53:15' \r\n",
        "list3 = T3.split(':') \r\n",
        "h3=list3[0]\r\n",
        "H3=int(h3)*3600\r\n",
        "m3=list3[1]\r\n",
        "M3=int(m3)*60\r\n",
        "s3=list3[2]\r\n",
        "S3=int(s3)\r\n",
        "print(f'12:53:15 สามารถคำนวณเวลาให้เป็นวินาทีได้เท่ากับ {H3+M3+S3} วินาที')"
      ],
      "execution_count": null,
      "outputs": [
        {
          "output_type": "stream",
          "text": [
            "12:53:15 สามารถคำนวณเวลาให้เป็นวินาทีได้เท่ากับ 46395 วินาที\n"
          ],
          "name": "stdout"
        }
      ]
    },
    {
      "cell_type": "code",
      "metadata": {
        "colab": {
          "base_uri": "https://localhost:8080/"
        },
        "id": "Zu1ifI3zllwG",
        "outputId": "977ce1f0-1bee-4a14-bbb6-601de5f97c5b"
      },
      "source": [
        "#4 00:59:25\r\n",
        "T4 = '00:59:25' \r\n",
        "list4 = T4.split(':') \r\n",
        "h4=list4[0]\r\n",
        "H4=int(h4)*3600\r\n",
        "m4=list4[1]\r\n",
        "M4=int(m4)*60\r\n",
        "s4=list4[2]\r\n",
        "S4=int(s4)\r\n",
        "print(f'00:59:25 สามารถคำนวณเวลาให้เป็นวินาทีได้เท่ากับ {H4+M4+S4} วินาที')"
      ],
      "execution_count": null,
      "outputs": [
        {
          "output_type": "stream",
          "text": [
            "00:59:25 สามารถคำนวณเวลาให้เป็นวินาทีได้เท่ากับ 3565 วินาที\n"
          ],
          "name": "stdout"
        }
      ]
    },
    {
      "cell_type": "code",
      "metadata": {
        "colab": {
          "base_uri": "https://localhost:8080/"
        },
        "id": "al-iHs-blls5",
        "outputId": "583f89d3-0d54-468f-f2b1-8bb26b5323b6"
      },
      "source": [
        "#5 11:11:11\r\n",
        "T5 = '11:11:11' \r\n",
        "list5 = T5.split(':') \r\n",
        "h5=list5[0]\r\n",
        "H5=int(h5)*3600\r\n",
        "m5=list5[1]\r\n",
        "M5=int(m5)*60\r\n",
        "s5=list5[2]\r\n",
        "S5=int(s5)\r\n",
        "print(f'11:11:11 สามารถคำนวณเวลาให้เป็นวินาทีได้เท่ากับ {H5+M5+S5} วินาที')"
      ],
      "execution_count": null,
      "outputs": [
        {
          "output_type": "stream",
          "text": [
            "11:11:11 สามารถคำนวณเวลาให้เป็นวินาทีได้เท่ากับ 40271 วินาที\n"
          ],
          "name": "stdout"
        }
      ]
    },
    {
      "cell_type": "code",
      "metadata": {
        "colab": {
          "base_uri": "https://localhost:8080/"
        },
        "id": "Qlmdj6whllld",
        "outputId": "4b0db7b3-ad0f-427a-b549-52a02c437b0e"
      },
      "source": [
        "#6 16:06:09\r\n",
        "T6 = '16:06:09' \r\n",
        "list6 = T6.split(':') \r\n",
        "h6=list6[0]\r\n",
        "H6=int(h6)*3600\r\n",
        "m6=list6[1]\r\n",
        "M6=int(m6)*60\r\n",
        "s6=list6[2]\r\n",
        "S6=int(s6)\r\n",
        "print(f'16:06:09 สามารถคำนวณเวลาให้เป็นวินาทีได้เท่ากับ {H6+M6+S6} วินาที')"
      ],
      "execution_count": null,
      "outputs": [
        {
          "output_type": "stream",
          "text": [
            "16:06:09 สามารถคำนวณเวลาให้เป็นวินาทีได้เท่ากับ 57969 วินาที\n"
          ],
          "name": "stdout"
        }
      ]
    },
    {
      "cell_type": "markdown",
      "metadata": {
        "id": "MAnQwp2QMTkT"
      },
      "source": [
        "##ให้สร้างฟังก์ชั่นคำนวณเวลาเป็นวินาทีของเวลาใดๆ และ print ออกมาให้สวยงาม"
      ]
    },
    {
      "cell_type": "code",
      "metadata": {
        "id": "mj3_R3mFMT88"
      },
      "source": [
        "Ttime = ['12:30:15','13:41:07','12:53:15','00:59:25','11:11:11','16:06:09'] \r\n",
        "\r\n",
        "def print_S(Ttime):\r\n",
        "      T = Ttime.split(':')\r\n",
        "      S = int(T[0])*3600 + int(T[1])*60 + int(T[2])\r\n",
        "      print(f'เวลา {Ttime} มี {S} วินาที')"
      ],
      "execution_count": 4,
      "outputs": []
    },
    {
      "cell_type": "code",
      "metadata": {
        "id": "sPQaZ-VTMZqd"
      },
      "source": [
        "def print_S(Ttime):\r\n",
        "      T = Ttime.split(':')\r\n",
        "      S = int(T[0])*3600 + int(T[1])*60 + int(T[2])\r\n",
        "      Ans = f'เวลา {Ttime} มี {S} วินาที'\r\n",
        "      print(Ans)"
      ],
      "execution_count": 5,
      "outputs": []
    },
    {
      "cell_type": "code",
      "metadata": {
        "id": "rIdx7D6PMZd9",
        "outputId": "6450d14b-b2cd-40e6-ccb7-9cfdcb4162cf",
        "colab": {
          "base_uri": "https://localhost:8080/"
        }
      },
      "source": [
        "print_S('12:30:15')\r\n",
        "print_S('13:41:07')\r\n",
        "print_S('12:53:15')\r\n",
        "print_S(Ttime[3])\r\n",
        "print_S(Ttime[4])\r\n",
        "print_S(Ttime[5])"
      ],
      "execution_count": 6,
      "outputs": [
        {
          "output_type": "stream",
          "text": [
            "เวลา 12:30:15 มี 45015 วินาที\n",
            "เวลา 13:41:07 มี 49267 วินาที\n",
            "เวลา 12:53:15 มี 46395 วินาที\n",
            "เวลา 00:59:25 มี 3565 วินาที\n",
            "เวลา 11:11:11 มี 40271 วินาที\n",
            "เวลา 16:06:09 มี 57969 วินาที\n"
          ],
          "name": "stdout"
        }
      ]
    },
    {
      "cell_type": "markdown",
      "metadata": {
        "id": "8hD1kAyFJGSJ"
      },
      "source": [
        "##HW3 ให้ สร้าง list ของ เวลา ['12:30:15','13:41:07',....] แล้ววนลูปเรียกฟังก์ชั่นคำนวณเวลาเป็น วินาที\r\n",
        "\r\n",
        "commit ว่า HW3"
      ]
    },
    {
      "cell_type": "code",
      "metadata": {
        "id": "fO2T9u7IS7rT"
      },
      "source": [
        "list_time= ['12:30:15','13:41:07','12:53:15','00:59:25','11:11:11','16:06:09']\r\n",
        "#สร้าง list ของเวลาขึ้นมา"
      ],
      "execution_count": 11,
      "outputs": []
    },
    {
      "cell_type": "code",
      "metadata": {
        "id": "bl1BnzIaS7nT"
      },
      "source": [
        "def sum_sec(t) :\r\n",
        "    time_t = t.split(':')\r\n",
        "    sum_sec = (int(time_t[0])*3600) + (int(time_t[1])*60) + (int(time_t[2]))\r\n",
        "    return sum_sec"
      ],
      "execution_count": 12,
      "outputs": []
    },
    {
      "cell_type": "code",
      "metadata": {
        "id": "0bBzdqhXS7Yy",
        "outputId": "73ed5a68-007d-4283-f8d9-85682806a790",
        "colab": {
          "base_uri": "https://localhost:8080/"
        }
      },
      "source": [
        "for i in list_time : #วนลูป list_time จาก def sum_sec\r\n",
        "    print(f' {i} คำนวณเวลาได้เป็น {sum_sec(i)} วินาที')"
      ],
      "execution_count": 13,
      "outputs": [
        {
          "output_type": "stream",
          "text": [
            " 12:30:15 คำนวณเวลาได้เป็น 45015 วินาที\n",
            " 13:41:07 คำนวณเวลาได้เป็น 49267 วินาที\n",
            " 12:53:15 คำนวณเวลาได้เป็น 46395 วินาที\n",
            " 00:59:25 คำนวณเวลาได้เป็น 3565 วินาที\n",
            " 11:11:11 คำนวณเวลาได้เป็น 40271 วินาที\n",
            " 16:06:09 คำนวณเวลาได้เป็น 57969 วินาที\n"
          ],
          "name": "stdout"
        }
      ]
    }
  ]
}