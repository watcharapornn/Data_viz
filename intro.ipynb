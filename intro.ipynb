{
  "nbformat": 4,
  "nbformat_minor": 0,
  "metadata": {
    "colab": {
      "name": "ยินดีต้อนรับสู่ Colaboratory",
      "provenance": [],
      "collapsed_sections": [],
      "toc_visible": true,
      "include_colab_link": true
    },
    "kernelspec": {
      "display_name": "Python 3",
      "name": "python3"
    }
  },
  "cells": [
    {
      "cell_type": "markdown",
      "metadata": {
        "id": "view-in-github",
        "colab_type": "text"
      },
      "source": [
        "<a href=\"https://colab.research.google.com/github/watcharapornn/data_viz/blob/main/intro.ipynb\" target=\"_parent\"><img src=\"https://colab.research.google.com/assets/colab-badge.svg\" alt=\"Open In Colab\"/></a>"
      ]
    },
    {
      "cell_type": "markdown",
      "metadata": {
        "id": "3TFlj3cCMcSc"
      },
      "source": [
        "นางสาววัชราภรณ์ บุญจวง 613020615-8"
      ]
    },
    {
      "cell_type": "markdown",
      "metadata": {
        "id": "znycOukbNBLT"
      },
      "source": [
        "ภาษา Markdown\n",
        "\n",
        "# Markdown\n",
        "## Markdown\n",
        "### Markdown\n",
        "#### Markdown\n",
        "\n",
        "~strike~\n",
        "\n",
        "^ สัญลักษณ์ขีดฆ่าข้างหลัง "
      ]
    },
    {
      "cell_type": "code",
      "metadata": {
        "id": "e8ZOHEt2LzUT",
        "colab": {
          "base_uri": "https://localhost:8080/"
        },
        "outputId": "12bd2a27-e695-4beb-fb33-2ae2e575a927"
      },
      "source": [
        "print('วัชราภรณ์')"
      ],
      "execution_count": null,
      "outputs": [
        {
          "output_type": "stream",
          "text": [
            "วัชราภรณ์\n"
          ],
          "name": "stdout"
        }
      ]
    },
    {
      "cell_type": "code",
      "metadata": {
        "id": "Bi8mNn4KLzQr"
      },
      "source": [
        ""
      ],
      "execution_count": null,
      "outputs": []
    },
    {
      "cell_type": "code",
      "metadata": {
        "id": "DFZAuoRELyqV"
      },
      "source": [
        ""
      ],
      "execution_count": null,
      "outputs": []
    },
    {
      "cell_type": "code",
      "metadata": {
        "id": "2AjCOSq9LyVG"
      },
      "source": [
        ""
      ],
      "execution_count": null,
      "outputs": []
    },
    {
      "cell_type": "code",
      "metadata": {
        "id": "56KXV3VNLyQH"
      },
      "source": [
        ""
      ],
      "execution_count": null,
      "outputs": []
    },
    {
      "cell_type": "code",
      "metadata": {
        "id": "itDtkCpJLyJg"
      },
      "source": [
        ""
      ],
      "execution_count": null,
      "outputs": []
    },
    {
      "cell_type": "code",
      "metadata": {
        "id": "umvhXhB4LyBf"
      },
      "source": [
        ""
      ],
      "execution_count": null,
      "outputs": []
    }
  ]
}