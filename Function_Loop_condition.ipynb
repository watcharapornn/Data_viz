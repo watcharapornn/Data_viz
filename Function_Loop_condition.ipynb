{
  "nbformat": 4,
  "nbformat_minor": 0,
  "metadata": {
    "colab": {
      "name": "Untitled2.ipynb",
      "provenance": [],
      "authorship_tag": "ABX9TyOOGjkIRN/mqhMIm1KrLOgs",
      "include_colab_link": true
    },
    "kernelspec": {
      "name": "python3",
      "display_name": "Python 3"
    }
  },
  "cells": [
    {
      "cell_type": "markdown",
      "metadata": {
        "id": "view-in-github",
        "colab_type": "text"
      },
      "source": [
        "<a href=\"https://colab.research.google.com/github/watcharapornn/data_viz/blob/main/Function_Loop_condition.ipynb\" target=\"_parent\"><img src=\"https://colab.research.google.com/assets/colab-badge.svg\" alt=\"Open In Colab\"/></a>"
      ]
    },
    {
      "cell_type": "markdown",
      "metadata": {
        "id": "5G8v13XtRo-H"
      },
      "source": [
        "#Function\r\n"
      ]
    },
    {
      "cell_type": "markdown",
      "metadata": {
        "id": "c9QVsubIRtzt"
      },
      "source": [
        "####**สิ่งที่ควรรู้**"
      ]
    },
    {
      "cell_type": "markdown",
      "metadata": {
        "id": "cbRW4kWeRttu"
      },
      "source": [
        "\r\n",
        "backtick ( ` ) ==> กด ~ ค้าง, กด Alt + 96 (กด Alt ค้างแล้ว กด 9 ปล่อย กด 6)\r\n",
        "\r\n",
        "tilde ( ~ )\r\n",
        "\r\n",
        "curly bracket ({ })\r\n",
        "\r\n",
        "square bracket ([ ])"
      ]
    },
    {
      "cell_type": "markdown",
      "metadata": {
        "id": "rL0smZyARtqZ"
      },
      "source": [
        "##Function template"
      ]
    },
    {
      "cell_type": "markdown",
      "metadata": {
        "id": "Yy-LpDvUR1l_"
      },
      "source": [
        "ทำหน้าที่รับ intput มาประมวลผลออกมาเป็น output เช่น f(x) = y\r\n",
        "\r\n",
        "def คือ การกำหนดฟังก์ชัน"
      ]
    },
    {
      "cell_type": "markdown",
      "metadata": {
        "id": "ivnVrn6NSC2z"
      },
      "source": [
        "```python\r\n",
        "    def function_name(_input_) :\r\n",
        "      do_someting with _input_to_get_output_\r\n",
        "      return _output_\r\n",
        "```\r\n",
        "\r\n",
        "function มีส่วนทั้งหมด 4 ส่วน\r\n",
        "\r\n",
        "1.   บอก python ว่าเราจะเขียนฟังก์ชันอะไร `def function_name()` (ขาดไม่ได้)\r\n",
        "2.   กำหนดตัวแปรที่จะเป็น input `_Input` (ขาดได้ ไม่ได้สำคัญมาก)\r\n",
        "3.ส่วนประมวลผล `do_sometime_thing_wint_Input_to_get_Output` (ขาดไม่ได้)\r\n",
        "4. ส่วนของ output `return_Output` (ขาดไม่ได้)\r\n",
        "\r\n",
        "\r\n",
        "\r\n",
        "เราใช้เว้นวรรค(indent) เพื่อบอกขอบเขตของโปรแกรม"
      ]
    },
    {
      "cell_type": "markdown",
      "metadata": {
        "id": "62EHpCkuSHtm"
      },
      "source": [
        "**ตัวอย่างการเขียน**"
      ]
    },
    {
      "cell_type": "markdown",
      "metadata": {
        "id": "yipHLUCASIWy"
      },
      "source": [
        "####EX.1"
      ]
    },
    {
      "cell_type": "markdown",
      "metadata": {
        "id": "Rzp77w3bSOaD"
      },
      "source": [
        "normal function"
      ]
    },
    {
      "cell_type": "code",
      "metadata": {
        "id": "-iY-55RfSOIU"
      },
      "source": [
        "def p_name(name,surname,ID):\r\n",
        "  st = f'ชื่อ {name} นามสกุล {surname} รหัส {ID}'\r\n",
        "  return st"
      ],
      "execution_count": 1,
      "outputs": []
    },
    {
      "cell_type": "code",
      "metadata": {
        "colab": {
          "base_uri": "https://localhost:8080/",
          "height": 34
        },
        "id": "wertXRkERot_",
        "outputId": "bb721f69-12cc-433a-860b-d908c7c198e7"
      },
      "source": [
        "p_name('วิไลภา','ชินพะวอ','613020616-6')"
      ],
      "execution_count": 2,
      "outputs": [
        {
          "output_type": "execute_result",
          "data": {
            "application/vnd.google.colaboratory.intrinsic+json": {
              "type": "string"
            },
            "text/plain": [
              "'ชื่อ วิไลภา นามสกุล ชินพะวอ รหัส 613020616-6'"
            ]
          },
          "metadata": {
            "tags": []
          },
          "execution_count": 2
        }
      ]
    },
    {
      "cell_type": "markdown",
      "metadata": {
        "id": "hHHr-v9uSr0C"
      },
      "source": [
        "####EX.2"
      ]
    },
    {
      "cell_type": "markdown",
      "metadata": {
        "id": "B0jYHybzSz-L"
      },
      "source": [
        "สามารถบอกชื่อของ Input ได้"
      ]
    },
    {
      "cell_type": "code",
      "metadata": {
        "id": "wlQPEm55SroE"
      },
      "source": [
        "def print_name(surname,ID,name):\r\n",
        "  st = f'ชื่อ {name} นามสกุล {surname} รหัส {ID}'\r\n",
        "  return st"
      ],
      "execution_count": 3,
      "outputs": []
    },
    {
      "cell_type": "code",
      "metadata": {
        "colab": {
          "base_uri": "https://localhost:8080/",
          "height": 34
        },
        "id": "MUjVDCMoSrjm",
        "outputId": "ad15ded8-3bf6-4404-f77c-46d179c11d52"
      },
      "source": [
        "print_name('ชินพะวอ','วิไลภา','613020616-6')"
      ],
      "execution_count": 4,
      "outputs": [
        {
          "output_type": "execute_result",
          "data": {
            "application/vnd.google.colaboratory.intrinsic+json": {
              "type": "string"
            },
            "text/plain": [
              "'ชื่อ 613020616-6 นามสกุล ชินพะวอ รหัส วิไลภา'"
            ]
          },
          "metadata": {
            "tags": []
          },
          "execution_count": 4
        }
      ]
    },
    {
      "cell_type": "code",
      "metadata": {
        "colab": {
          "base_uri": "https://localhost:8080/",
          "height": 34
        },
        "id": "7P_F8oSASrgv",
        "outputId": "02382eb5-9662-473c-eb5d-97488632066e"
      },
      "source": [
        "print_name(surname = 'ชินพะวอ',name = 'วิไลภา',ID = '613020616-6')"
      ],
      "execution_count": 5,
      "outputs": [
        {
          "output_type": "execute_result",
          "data": {
            "application/vnd.google.colaboratory.intrinsic+json": {
              "type": "string"
            },
            "text/plain": [
              "'ชื่อ วิไลภา นามสกุล ชินพะวอ รหัส 613020616-6'"
            ]
          },
          "metadata": {
            "tags": []
          },
          "execution_count": 5
        }
      ]
    },
    {
      "cell_type": "markdown",
      "metadata": {
        "id": "TQ4txmtNTOAq"
      },
      "source": [
        "####EX.3"
      ]
    },
    {
      "cell_type": "markdown",
      "metadata": {
        "id": "voOFgM6aTTUp"
      },
      "source": [
        "ฟังก์ชั่นไม่จำเป็นต้องมี Output"
      ]
    },
    {
      "cell_type": "code",
      "metadata": {
        "id": "e4U7y9LUSrcy"
      },
      "source": [
        "def print_name2(surname,ID,name):\r\n",
        "  st = f'ชื่อ {name} นามสกุล {surname} รหัส {ID}'\r\n",
        "  print(st)"
      ],
      "execution_count": 7,
      "outputs": []
    },
    {
      "cell_type": "code",
      "metadata": {
        "colab": {
          "base_uri": "https://localhost:8080/"
        },
        "id": "5Hf88j-cRolp",
        "outputId": "7f4b100d-3cf0-4e26-eace-2c32a5d401e6"
      },
      "source": [
        "print_name2(surname = 'ชินพะวอ',name = 'วิไลภา',ID = '613020616-6')"
      ],
      "execution_count": 8,
      "outputs": [
        {
          "output_type": "stream",
          "text": [
            "ชื่อ วิไลภา นามสกุล ชินพะวอ รหัส 613020616-6\n"
          ],
          "name": "stdout"
        }
      ]
    },
    {
      "cell_type": "markdown",
      "metadata": {
        "id": "BYdoJDcPTyre"
      },
      "source": [
        "####EX.4"
      ]
    },
    {
      "cell_type": "markdown",
      "metadata": {
        "id": "JU37w5-sT5_i"
      },
      "source": [
        "ฟังก์ชั่นไม่จำเป็นต้องมี Input"
      ]
    },
    {
      "cell_type": "code",
      "metadata": {
        "id": "PrYSUu1OReUr"
      },
      "source": [
        "def Pi():\r\n",
        "  return 3.14159265359"
      ],
      "execution_count": 9,
      "outputs": []
    },
    {
      "cell_type": "code",
      "metadata": {
        "colab": {
          "base_uri": "https://localhost:8080/"
        },
        "id": "DsqHtcNSTZbD",
        "outputId": "914403f9-27a8-426e-a98b-ffccf9c607bf"
      },
      "source": [
        "Pi()*(2**2) #หาพื้นที่ของวงกลม เมื่อค่า r = 2"
      ],
      "execution_count": 10,
      "outputs": [
        {
          "output_type": "execute_result",
          "data": {
            "text/plain": [
              "12.56637061436"
            ]
          },
          "metadata": {
            "tags": []
          },
          "execution_count": 10
        }
      ]
    },
    {
      "cell_type": "markdown",
      "metadata": {
        "id": "FOuUGu2mUDxP"
      },
      "source": [
        "####EX.5\r\n",
        "\r\n",
        "เราสามารถกำหนดค่า default ให้กับฟังก์ชั่นได้\r\n",
        "\r\n",
        "input ของ function ใน python มีสองแบบ input ที่จำเป็นต้องใส่ กับ input ที่ไม่จำเป็นต้องใส่ (default) ต้องเรียง input ที่จำเป็นต้องใส่ขึ้นก่อน ถ้าใส่ input ในฟังก์ชั่นที่ไม่จำเป็นต้องใส่จะ run ไม่ได้\r\n"
      ]
    },
    {
      "cell_type": "code",
      "metadata": {
        "id": "7Mr0Df2YTZYj"
      },
      "source": [
        "def Print_2line_default(name,surname,ID,grade = 'F'):\r\n",
        "  st = f'ชื่อ {name} นามสกุล {surname} รหัส {ID}'\r\n",
        "  print(st)\r\n",
        "  st2 = f'เกรดวิชา Data Viz >>> {grade}'\r\n",
        "  print(st2)"
      ],
      "execution_count": 11,
      "outputs": []
    },
    {
      "cell_type": "code",
      "metadata": {
        "colab": {
          "base_uri": "https://localhost:8080/"
        },
        "id": "HMXwkMcRTZV6",
        "outputId": "8623b2e4-0525-470a-9a45-f96f4e935f32"
      },
      "source": [
        "Print_2line_default('วัชราภรณ์','บุญจวง','613020615-8')"
      ],
      "execution_count": 12,
      "outputs": [
        {
          "output_type": "stream",
          "text": [
            "ชื่อ วัชราภรณ์ นามสกุล บุญจวง รหัส 613020615-8\n",
            "เกรดวิชา Data Viz >>> F\n"
          ],
          "name": "stdout"
        }
      ]
    },
    {
      "cell_type": "code",
      "metadata": {
        "colab": {
          "base_uri": "https://localhost:8080/"
        },
        "id": "7rVyXpNhTZTh",
        "outputId": "142098f9-0f1f-4111-9721-3741a1b98b20"
      },
      "source": [
        "Print_2line_default('วัชราภรณ์','บุญจวง','613020615-8','A')"
      ],
      "execution_count": 13,
      "outputs": [
        {
          "output_type": "stream",
          "text": [
            "ชื่อ วัชราภรณ์ นามสกุล บุญจวง รหัส 613020615-8\n",
            "เกรดวิชา Data Viz >>> A\n"
          ],
          "name": "stdout"
        }
      ]
    },
    {
      "cell_type": "markdown",
      "metadata": {
        "id": "1aCfSe4YUpbM"
      },
      "source": [
        "##Loop"
      ]
    },
    {
      "cell_type": "markdown",
      "metadata": {
        "id": "kdESdBurUqUZ"
      },
      "source": [
        "####**for**\r\n",
        "\r\n",
        "การวนซ้ำ ใช้ for เป็นคำที่ใช้บอก python ว่าเรากำลังเขียน loop โดย for จะวนดึงสมาชิกจาก listA มาทำ process do_something เป็นคำสั่งวนซ้ำที่ใช้ควบคุมการทำงานซ้ำๆ ในจำนวนรอบที่แน่นอน"
      ]
    },
    {
      "cell_type": "code",
      "metadata": {
        "colab": {
          "base_uri": "https://localhost:8080/"
        },
        "id": "Di8H3Uo1TZQ6",
        "outputId": "695b0cdf-6cc0-45de-f149-fb3e417fa381"
      },
      "source": [
        "for i in [1,2,3]:\r\n",
        "  o = i**2\r\n",
        "  print(f'This member = {i} after process = {o}')"
      ],
      "execution_count": 14,
      "outputs": [
        {
          "output_type": "stream",
          "text": [
            "This member = 1 after process = 1\n",
            "This member = 2 after process = 4\n",
            "This member = 3 after process = 9\n"
          ],
          "name": "stdout"
        }
      ]
    },
    {
      "cell_type": "markdown",
      "metadata": {
        "id": "M5vaQZubWY4p"
      },
      "source": [
        "ตัวอย่างการใช้คำสั่ง gor ในการวนซ้ำของ i เมื่อ i คือ 'Thitiwut' "
      ]
    },
    {
      "cell_type": "code",
      "metadata": {
        "colab": {
          "base_uri": "https://localhost:8080/"
        },
        "id": "uIn72-jvWYpD",
        "outputId": "53a42bfb-8529-4cd6-dbc1-76807395b824"
      },
      "source": [
        "for i in 'Thitiwut':\r\n",
        "  print(f'{i} -> /') # ปกติ print แล้วจะขึ้นบรรทัดใหม่ ตามค่า default"
      ],
      "execution_count": 15,
      "outputs": [
        {
          "output_type": "stream",
          "text": [
            "T -> /\n",
            "h -> /\n",
            "i -> /\n",
            "t -> /\n",
            "i -> /\n",
            "w -> /\n",
            "u -> /\n",
            "t -> /\n"
          ],
          "name": "stdout"
        }
      ]
    },
    {
      "cell_type": "code",
      "metadata": {
        "colab": {
          "base_uri": "https://localhost:8080/"
        },
        "id": "qg0hqZUUTZN3",
        "outputId": "231ab5cc-c5fa-471b-83ba-a21e451301a6"
      },
      "source": [
        "for i in 'Thitiwut':\r\n",
        "  print(f'{i} -> /', end = '') #สั่งให้ print ไม่เว้นบรรทัด"
      ],
      "execution_count": 16,
      "outputs": [
        {
          "output_type": "stream",
          "text": [
            "T -> /h -> /i -> /t -> /i -> /w -> /u -> /t -> /"
          ],
          "name": "stdout"
        }
      ]
    },
    {
      "cell_type": "code",
      "metadata": {
        "colab": {
          "base_uri": "https://localhost:8080/"
        },
        "id": "6dteAoyxTZLR",
        "outputId": "c99de36d-0cb0-47bb-bfc5-26f1afb1a0c0"
      },
      "source": [
        "for i in 'Thitiwut':\r\n",
        "  print(f'{i} -> /', end = ',') #สั่งให้ print มี , "
      ],
      "execution_count": 17,
      "outputs": [
        {
          "output_type": "stream",
          "text": [
            "T -> /,h -> /,i -> /,t -> /,i -> /,w -> /,u -> /,t -> /,"
          ],
          "name": "stdout"
        }
      ]
    },
    {
      "cell_type": "markdown",
      "metadata": {
        "id": "AKjG569sWnS5"
      },
      "source": [
        "#### **List**\r\n",
        "\r\n",
        "สร้าง list ตัวเลขแบบอัตโนมัติ range() นำมาใช้ใน for ได้"
      ]
    },
    {
      "cell_type": "code",
      "metadata": {
        "colab": {
          "base_uri": "https://localhost:8080/"
        },
        "id": "9gX5iRNTWnAA",
        "outputId": "b9cd8314-0f17-484b-aaa8-a938479b9cc3"
      },
      "source": [
        "range5_output = range(5)\r\n",
        "print(range5_output)\r\n",
        "print(list(range5_output))"
      ],
      "execution_count": 18,
      "outputs": [
        {
          "output_type": "stream",
          "text": [
            "range(0, 5)\n",
            "[0, 1, 2, 3, 4]\n"
          ],
          "name": "stdout"
        }
      ]
    },
    {
      "cell_type": "code",
      "metadata": {
        "colab": {
          "base_uri": "https://localhost:8080/"
        },
        "id": "a-CcdETCTZIt",
        "outputId": "a9aab302-c674-42b4-daf7-501cf0e7cbef"
      },
      "source": [
        "list1_10 = range(1,11) #สร้าง list เลขตั้งเเต่ 1-10\r\n",
        "print(list((list1_10)))"
      ],
      "execution_count": 19,
      "outputs": [
        {
          "output_type": "stream",
          "text": [
            "[1, 2, 3, 4, 5, 6, 7, 8, 9, 10]\n"
          ],
          "name": "stdout"
        }
      ]
    },
    {
      "cell_type": "markdown",
      "metadata": {
        "id": "x1RMyNu1WzAZ"
      },
      "source": [
        "Ex."
      ]
    },
    {
      "cell_type": "code",
      "metadata": {
        "colab": {
          "base_uri": "https://localhost:8080/"
        },
        "id": "hLYNZ0ogWyUt",
        "outputId": "e8aaa94e-f8c1-4d11-dfec-7767f8177823"
      },
      "source": [
        "for i in range(100):\r\n",
        "  print('5',end = '')"
      ],
      "execution_count": 20,
      "outputs": [
        {
          "output_type": "stream",
          "text": [
            "5555555555555555555555555555555555555555555555555555555555555555555555555555555555555555555555555555"
          ],
          "name": "stdout"
        }
      ]
    },
    {
      "cell_type": "code",
      "metadata": {
        "colab": {
          "base_uri": "https://localhost:8080/"
        },
        "id": "NCR6aSXCWyR3",
        "outputId": "3c6e271f-bab7-4844-a0de-4f049e28ff14"
      },
      "source": [
        "for i in range(10):\r\n",
        "  print('ha',end = ' ')"
      ],
      "execution_count": 21,
      "outputs": [
        {
          "output_type": "stream",
          "text": [
            "ha ha ha ha ha ha ha ha ha ha "
          ],
          "name": "stdout"
        }
      ]
    },
    {
      "cell_type": "code",
      "metadata": {
        "colab": {
          "base_uri": "https://localhost:8080/"
        },
        "id": "1uIhL8n1WyOv",
        "outputId": "50343871-332f-4ed3-830f-854416c7e463"
      },
      "source": [
        "list(range(-3,20,4)) # เริ่มตั้งเเต่ -3 ไปถึง 20 โดย step ไปครั้งละ 4"
      ],
      "execution_count": 22,
      "outputs": [
        {
          "output_type": "execute_result",
          "data": {
            "text/plain": [
              "[-3, 1, 5, 9, 13, 17]"
            ]
          },
          "metadata": {
            "tags": []
          },
          "execution_count": 22
        }
      ]
    },
    {
      "cell_type": "markdown",
      "metadata": {
        "id": "ZCkq8NSYW_1U"
      },
      "source": [
        "####**loop in loop**\r\n",
        "\r\n",
        "สามารถใช้ for loop ซ้อนกันสองรอบได้"
      ]
    },
    {
      "cell_type": "code",
      "metadata": {
        "colab": {
          "base_uri": "https://localhost:8080/"
        },
        "id": "GnNFnZWWW9D0",
        "outputId": "061898ee-5122-4832-a583-1620df4e5053"
      },
      "source": [
        "for i in range(2,5): #(2,3,4)\r\n",
        "  for j in range(1,13):\r\n",
        "    print(i,'*',j,'=',i*j) # print อีกแบบคือ print(f'{i}*{j}={i*j}')"
      ],
      "execution_count": 23,
      "outputs": [
        {
          "output_type": "stream",
          "text": [
            "2 * 1 = 2\n",
            "2 * 2 = 4\n",
            "2 * 3 = 6\n",
            "2 * 4 = 8\n",
            "2 * 5 = 10\n",
            "2 * 6 = 12\n",
            "2 * 7 = 14\n",
            "2 * 8 = 16\n",
            "2 * 9 = 18\n",
            "2 * 10 = 20\n",
            "2 * 11 = 22\n",
            "2 * 12 = 24\n",
            "3 * 1 = 3\n",
            "3 * 2 = 6\n",
            "3 * 3 = 9\n",
            "3 * 4 = 12\n",
            "3 * 5 = 15\n",
            "3 * 6 = 18\n",
            "3 * 7 = 21\n",
            "3 * 8 = 24\n",
            "3 * 9 = 27\n",
            "3 * 10 = 30\n",
            "3 * 11 = 33\n",
            "3 * 12 = 36\n",
            "4 * 1 = 4\n",
            "4 * 2 = 8\n",
            "4 * 3 = 12\n",
            "4 * 4 = 16\n",
            "4 * 5 = 20\n",
            "4 * 6 = 24\n",
            "4 * 7 = 28\n",
            "4 * 8 = 32\n",
            "4 * 9 = 36\n",
            "4 * 10 = 40\n",
            "4 * 11 = 44\n",
            "4 * 12 = 48\n"
          ],
          "name": "stdout"
        }
      ]
    },
    {
      "cell_type": "code",
      "metadata": {
        "colab": {
          "base_uri": "https://localhost:8080/"
        },
        "id": "ue1ko7a0WyMJ",
        "outputId": "caf7987f-a9c0-455a-cb5b-5717bfe938d4"
      },
      "source": [
        "for i in range(2,5): #(2,3,4)\r\n",
        "  print(f'\\nNow i = {i}')\r\n",
        "  for j in range(1,13):\r\n",
        "    print(f'{i}*{j}={i*j}')\r\n",
        "  print(f'the inner loop is end')"
      ],
      "execution_count": 24,
      "outputs": [
        {
          "output_type": "stream",
          "text": [
            "\n",
            "Now i = 2\n",
            "2*1=2\n",
            "2*2=4\n",
            "2*3=6\n",
            "2*4=8\n",
            "2*5=10\n",
            "2*6=12\n",
            "2*7=14\n",
            "2*8=16\n",
            "2*9=18\n",
            "2*10=20\n",
            "2*11=22\n",
            "2*12=24\n",
            "the inner loop is end\n",
            "\n",
            "Now i = 3\n",
            "3*1=3\n",
            "3*2=6\n",
            "3*3=9\n",
            "3*4=12\n",
            "3*5=15\n",
            "3*6=18\n",
            "3*7=21\n",
            "3*8=24\n",
            "3*9=27\n",
            "3*10=30\n",
            "3*11=33\n",
            "3*12=36\n",
            "the inner loop is end\n",
            "\n",
            "Now i = 4\n",
            "4*1=4\n",
            "4*2=8\n",
            "4*3=12\n",
            "4*4=16\n",
            "4*5=20\n",
            "4*6=24\n",
            "4*7=28\n",
            "4*8=32\n",
            "4*9=36\n",
            "4*10=40\n",
            "4*11=44\n",
            "4*12=48\n",
            "the inner loop is end\n"
          ],
          "name": "stdout"
        }
      ]
    },
    {
      "cell_type": "markdown",
      "metadata": {
        "id": "hUQZ5EAzXLFz"
      },
      "source": [
        "#### **loop in function**"
      ]
    },
    {
      "cell_type": "code",
      "metadata": {
        "id": "3NNHF693WyJd"
      },
      "source": [
        "list_number = range(1,13)"
      ],
      "execution_count": 25,
      "outputs": []
    },
    {
      "cell_type": "code",
      "metadata": {
        "id": "Qf_W3cMiWyGT"
      },
      "source": [
        "def mul_table(i,range,):\r\n",
        "  for j in range:\r\n",
        "    print(f'{i}*{j} = {i*j}')"
      ],
      "execution_count": 26,
      "outputs": []
    },
    {
      "cell_type": "code",
      "metadata": {
        "colab": {
          "base_uri": "https://localhost:8080/"
        },
        "id": "NVO_aQuoWyDj",
        "outputId": "8b71353b-6804-4867-d7a1-3f90d2f66585"
      },
      "source": [
        "mul_table(2,list_number)"
      ],
      "execution_count": 27,
      "outputs": [
        {
          "output_type": "stream",
          "text": [
            "2*1 = 2\n",
            "2*2 = 4\n",
            "2*3 = 6\n",
            "2*4 = 8\n",
            "2*5 = 10\n",
            "2*6 = 12\n",
            "2*7 = 14\n",
            "2*8 = 16\n",
            "2*9 = 18\n",
            "2*10 = 20\n",
            "2*11 = 22\n",
            "2*12 = 24\n"
          ],
          "name": "stdout"
        }
      ]
    },
    {
      "cell_type": "code",
      "metadata": {
        "colab": {
          "base_uri": "https://localhost:8080/"
        },
        "id": "sCagDCGBWyAc",
        "outputId": "23824e1b-efa2-41be-84ed-3b84280226c8"
      },
      "source": [
        "mul_table(12,list_number)"
      ],
      "execution_count": 28,
      "outputs": [
        {
          "output_type": "stream",
          "text": [
            "12*1 = 12\n",
            "12*2 = 24\n",
            "12*3 = 36\n",
            "12*4 = 48\n",
            "12*5 = 60\n",
            "12*6 = 72\n",
            "12*7 = 84\n",
            "12*8 = 96\n",
            "12*9 = 108\n",
            "12*10 = 120\n",
            "12*11 = 132\n",
            "12*12 = 144\n"
          ],
          "name": "stdout"
        }
      ]
    },
    {
      "cell_type": "markdown",
      "metadata": {
        "id": "ZRY9OXGiXb3o"
      },
      "source": [
        "#Conditional\r\n",
        "\r\n",
        "conditional คือ เงือนไข/ประโยคเือนไข\r\n"
      ]
    },
    {
      "cell_type": "markdown",
      "metadata": {
        "id": "rJaIVo2wXriO"
      },
      "source": [
        "#### True / False\r\n",
        "\r\n",
        "การวนลูปโดยมีเงื่อนไขต่างๆมาเกี่ยวข้อง โดยมี pattern ดังนี้\r\n",
        "\r\n",
        "*   รายการในลิสต์\r\n",
        "*   รายการในลิสต์\r\n",
        "\r\n",
        "\r\n",
        "``` \r\n",
        "if condition1 :\r\n",
        "    do something\r\n",
        "elif condition2 :  #elif คือ else if\r\n",
        "    do another thing\r\n",
        "else:\r\n",
        "    do ...\r\n",
        "```"
      ]
    },
    {
      "cell_type": "code",
      "metadata": {
        "id": "fNjmJUiyWx9O"
      },
      "source": [
        "list_name = ['A','B','C','D']"
      ],
      "execution_count": 29,
      "outputs": []
    },
    {
      "cell_type": "code",
      "metadata": {
        "colab": {
          "base_uri": "https://localhost:8080/"
        },
        "id": "bcby_Ye2TZFj",
        "outputId": "4680388f-3ba3-45b7-8a68-cae4529e7df9"
      },
      "source": [
        "for name1 in list_name:\r\n",
        "  for name2 in list_name:\r\n",
        "    print(name1,'KILL',name2)"
      ],
      "execution_count": 30,
      "outputs": [
        {
          "output_type": "stream",
          "text": [
            "A KILL A\n",
            "A KILL B\n",
            "A KILL C\n",
            "A KILL D\n",
            "B KILL A\n",
            "B KILL B\n",
            "B KILL C\n",
            "B KILL D\n",
            "C KILL A\n",
            "C KILL B\n",
            "C KILL C\n",
            "C KILL D\n",
            "D KILL A\n",
            "D KILL B\n",
            "D KILL C\n",
            "D KILL D\n"
          ],
          "name": "stdout"
        }
      ]
    },
    {
      "cell_type": "code",
      "metadata": {
        "colab": {
          "base_uri": "https://localhost:8080/"
        },
        "id": "fCLtQdkHX98v",
        "outputId": "41ea942b-1d39-4a32-d77c-def02efdd911"
      },
      "source": [
        "for name1 in list_name:\r\n",
        "  for name2 in list_name:\r\n",
        "    if name1 != name2 : #ไม่ print ชื่อคนซ้ำ\r\n",
        "       print(name1,'KILL',name2)"
      ],
      "execution_count": 31,
      "outputs": [
        {
          "output_type": "stream",
          "text": [
            "A KILL B\n",
            "A KILL C\n",
            "A KILL D\n",
            "B KILL A\n",
            "B KILL C\n",
            "B KILL D\n",
            "C KILL A\n",
            "C KILL B\n",
            "C KILL D\n",
            "D KILL A\n",
            "D KILL B\n",
            "D KILL C\n"
          ],
          "name": "stdout"
        }
      ]
    },
    {
      "cell_type": "code",
      "metadata": {
        "colab": {
          "base_uri": "https://localhost:8080/"
        },
        "id": "hqEOcrEjX-eW",
        "outputId": "01297681-c005-40e5-95c7-5fd2904bf178"
      },
      "source": [
        "for name1 in list_name:\r\n",
        "  for name2 in list_name:\r\n",
        "    if name1 == name2 : # print ชื่อคนซ้ำ\r\n",
        "       print(name1,'KILL',name2)"
      ],
      "execution_count": 32,
      "outputs": [
        {
          "output_type": "stream",
          "text": [
            "A KILL A\n",
            "B KILL B\n",
            "C KILL C\n",
            "D KILL D\n"
          ],
          "name": "stdout"
        }
      ]
    },
    {
      "cell_type": "code",
      "metadata": {
        "colab": {
          "base_uri": "https://localhost:8080/"
        },
        "id": "ws-eUT0NYA2k",
        "outputId": "f65dd0e4-f23d-4452-9eeb-b6f753e2998a"
      },
      "source": [
        "for name1 in list_name:\r\n",
        "  for name2 in list_name:\r\n",
        "    if name1 == name2 : \r\n",
        "       'do nothing'\r\n",
        "    else:  \r\n",
        "       print(name1,'KILL',name2)"
      ],
      "execution_count": 33,
      "outputs": [
        {
          "output_type": "stream",
          "text": [
            "A KILL B\n",
            "A KILL C\n",
            "A KILL D\n",
            "B KILL A\n",
            "B KILL C\n",
            "B KILL D\n",
            "C KILL A\n",
            "C KILL B\n",
            "C KILL D\n",
            "D KILL A\n",
            "D KILL B\n",
            "D KILL C\n"
          ],
          "name": "stdout"
        }
      ]
    },
    {
      "cell_type": "markdown",
      "metadata": {
        "id": "ywIDWlqxX7mt"
      },
      "source": [
        "==,!=,>=,<=,>,<"
      ]
    },
    {
      "cell_type": "code",
      "metadata": {
        "colab": {
          "base_uri": "https://localhost:8080/"
        },
        "id": "T529ereHX7YU",
        "outputId": "92f1a033-ec0a-4f04-d9ca-b19519965bca"
      },
      "source": [
        "'A' == 'B'"
      ],
      "execution_count": 34,
      "outputs": [
        {
          "output_type": "execute_result",
          "data": {
            "text/plain": [
              "False"
            ]
          },
          "metadata": {
            "tags": []
          },
          "execution_count": 34
        }
      ]
    },
    {
      "cell_type": "code",
      "metadata": {
        "colab": {
          "base_uri": "https://localhost:8080/"
        },
        "id": "tMq6gUZFX7VH",
        "outputId": "0b4d5be0-6850-415e-a63a-8dac057db0d8"
      },
      "source": [
        "'A' != 'B'"
      ],
      "execution_count": 35,
      "outputs": [
        {
          "output_type": "execute_result",
          "data": {
            "text/plain": [
              "True"
            ]
          },
          "metadata": {
            "tags": []
          },
          "execution_count": 35
        }
      ]
    },
    {
      "cell_type": "markdown",
      "metadata": {
        "id": "6-HN5J5FYR_U"
      },
      "source": [
        "หากหลังเงื่อนไข True ถูกต้องจะทำการ print ข้อความออกมาว่า Yes"
      ]
    },
    {
      "cell_type": "code",
      "metadata": {
        "colab": {
          "base_uri": "https://localhost:8080/"
        },
        "id": "3qBYOU_7X7Rg",
        "outputId": "faf61f7b-01fd-4802-e35f-876b5e597d8e"
      },
      "source": [
        "if True:\r\n",
        "  print('Yes')"
      ],
      "execution_count": 36,
      "outputs": [
        {
          "output_type": "stream",
          "text": [
            "Yes\n"
          ],
          "name": "stdout"
        }
      ]
    },
    {
      "cell_type": "code",
      "metadata": {
        "id": "qb4Mb4W_X7Of"
      },
      "source": [
        "if False:\r\n",
        "  print('No')"
      ],
      "execution_count": 38,
      "outputs": []
    },
    {
      "cell_type": "markdown",
      "metadata": {
        "id": "Y4I1-giaYZZ9"
      },
      "source": [
        "หากหลังเงื่อนไข False ไม่ถูกต้องจะไม่ปริ้นข้อความใดๆออกมา\r\n",
        "\r\n",
        "ซึ่งจะต้องใช้เงื่อนไขนี้ จึงจะได้ปริ้นค่าเงื่อนไขนั้นออกมา ดังนี้"
      ]
    },
    {
      "cell_type": "code",
      "metadata": {
        "colab": {
          "base_uri": "https://localhost:8080/"
        },
        "id": "yDMTHPyjX7Lk",
        "outputId": "994ce593-00da-46c8-f533-d18c81bd8235"
      },
      "source": [
        "if False:\r\n",
        "    print('Yes')\r\n",
        "else:\r\n",
        "    print('No')"
      ],
      "execution_count": 39,
      "outputs": [
        {
          "output_type": "stream",
          "text": [
            "No\n"
          ],
          "name": "stdout"
        }
      ]
    },
    {
      "cell_type": "markdown",
      "metadata": {
        "id": "SF02QzqdZKjN"
      },
      "source": [
        "#HW\r\n",
        "\r\n",
        "การบ้านที่ 4\r\n",
        "\r\n",
        "####โจทย์\r\n",
        "\r\n",
        "เขียน function ตัดเกรด โดยที่ input เป็นคะแนน(0-100) , output เป็นเกรด (F-A)\r\n",
        "\r\n",
        "วนลูปตัดเกรด input = [1,50,65,90,101,-5,49]\r\n",
        "\r\n",
        "\r\n",
        "**กำหนด**\r\n",
        "```\r\n",
        "  ถ้าคะแนนอยู่ระหว่างมากกว่าหรือเท่ากับ  0  แต่น้อยกว่า 50 จะได้เกรด F\r\n",
        "\r\n",
        "  ถ้าคะแนนอยู่ระหว่างมากกว่าหรือเท่ากับ 50 แต่น้อยกว่า 55 จะได้เกรด D\r\n",
        "\r\n",
        "  ถ้าคะแนนอยู่ระหว่างมากกว่าหรือเท่ากับ 55 แต่น้อยกว่า 60 จะได้เกรด D+\r\n",
        "\r\n",
        "  ถ้าคะแนนอยู่ระหว่างมากกว่าหรือเท่ากับ 60 แต่น้อยกว่า 65 จะได้เกรด C\r\n",
        "\r\n",
        "  ถ้าคะแนนอยู่ระหว่างมากกว่าหรือเท่ากับ 65 แต่น้อยกว่า 70 จะได้เกรด C+\r\n",
        "\r\n",
        "  ถ้าคะแนนอยู่ระหว่างมากกว่าหรือเท่ากับ 70 แต่น้อยกว่า 75 จะได้เกรด B\r\n",
        "\r\n",
        "  ถ้าคะแนนอยู่ระหว่างมากกว่าหรือเท่ากับ 75 แต่น้อยกว่า 80 จะได้เกรด B+\r\n",
        "\r\n",
        "  ถ้าคะแนนอยู่ระหว่างมากกว่าหรือเท่ากับ 80  จะได้เกรด A\r\n",
        "\r\n",
        "  แต่ว่าค่าคะแนนจะต้องไม่ต่ำกว่า 0 และมากกว่า 100 ไม่งั้นจะเกิด error\r\n",
        "  ```"
      ]
    },
    {
      "cell_type": "markdown",
      "metadata": {
        "id": "n7SA1kHGZYb9"
      },
      "source": [
        "###ฟังก์ชั่นคำนวณเกรด"
      ]
    },
    {
      "cell_type": "code",
      "metadata": {
        "id": "X8KSA8qHX7IJ"
      },
      "source": [
        "def cal_grade(score):\r\n",
        "  if score < 0 :\r\n",
        "    print(f'error: กรอกคะแนนผิด')\r\n",
        "  if score >= 0 and score < 50:\r\n",
        "    print(f'นักศึกษาคนนี้มีคะแนน {score} จะได้เกรด F')\r\n",
        "  if score >= 50 and score < 55:\r\n",
        "    print(f'นักศึกษาคนนี้มีคะแนน {score} จะได้เกรด D')\r\n",
        "  if score >= 55 and score < 60:\r\n",
        "    print(f'นักศึกษาคนนี้มีคะแนน {score} จะได้เกรด D+')\r\n",
        "  if score >= 60 and score < 65:\r\n",
        "    print(f'นักศึกษาคนนี้มีคะแนน {score} จะได้เกรด C')\r\n",
        "  if score >= 65 and score < 70:\r\n",
        "    print(f'นักศึกษาคนนี้มีคะแนน {score} จะได้เกรด C+')\r\n",
        "  if score >= 70 and score < 75:\r\n",
        "    print(f'นักศึกษาคนนี้มีคะแนน {score} จะได้เกรด B')\r\n",
        "  if score >= 75 and score < 80:\r\n",
        "    print(f'นักศึกษาคนนี้มีคะแนน {score} จะได้เกรด B+')\r\n",
        "  if score >= 80 and score < 100:\r\n",
        "    print(f'นักศึกษาคนนี้มีคะแนน {score} จะได้เกรด A')\r\n",
        "  if score >= 100 :      \r\n",
        "    print(f'error: กรอกคะแนนผิด')\r\n",
        "\r\n"
      ],
      "execution_count": 42,
      "outputs": []
    },
    {
      "cell_type": "markdown",
      "metadata": {
        "id": "sSWmBwJCZeML"
      },
      "source": [
        "###การคำนวณเกรด"
      ]
    },
    {
      "cell_type": "code",
      "metadata": {
        "id": "3yEdl4S4X7Ci"
      },
      "source": [
        "input = [1,50,65,90,101,-5,49]"
      ],
      "execution_count": 43,
      "outputs": []
    },
    {
      "cell_type": "code",
      "metadata": {
        "colab": {
          "base_uri": "https://localhost:8080/"
        },
        "id": "oF313eXNX7AU",
        "outputId": "35863893-f0eb-44e1-cc1c-6e12b8de34c0"
      },
      "source": [
        "for score in input:\r\n",
        "  cal_grade(score)"
      ],
      "execution_count": 44,
      "outputs": [
        {
          "output_type": "stream",
          "text": [
            "นักศึกษาคนนี้มีคะแนน 1 จะได้เกรด F\n",
            "นักศึกษาคนนี้มีคะแนน 50 จะได้เกรด D\n",
            "นักศึกษาคนนี้มีคะแนน 65 จะได้เกรด C+\n",
            "นักศึกษาคนนี้มีคะแนน 90 จะได้เกรด A\n",
            "error: กรอกคะแนนผิด\n",
            "error: กรอกคะแนนผิด\n",
            "นักศึกษาคนนี้มีคะแนน 49 จะได้เกรด F\n"
          ],
          "name": "stdout"
        }
      ]
    },
    {
      "cell_type": "code",
      "metadata": {
        "id": "pSmUyKA9X68t"
      },
      "source": [
        ""
      ],
      "execution_count": null,
      "outputs": []
    },
    {
      "cell_type": "code",
      "metadata": {
        "id": "MuPymEfrX626"
      },
      "source": [
        ""
      ],
      "execution_count": null,
      "outputs": []
    },
    {
      "cell_type": "code",
      "metadata": {
        "id": "1Suho5lFTZAw"
      },
      "source": [
        ""
      ],
      "execution_count": null,
      "outputs": []
    },
    {
      "cell_type": "code",
      "metadata": {
        "id": "ibpWY2rSTY9j"
      },
      "source": [
        ""
      ],
      "execution_count": null,
      "outputs": []
    }
  ]
}